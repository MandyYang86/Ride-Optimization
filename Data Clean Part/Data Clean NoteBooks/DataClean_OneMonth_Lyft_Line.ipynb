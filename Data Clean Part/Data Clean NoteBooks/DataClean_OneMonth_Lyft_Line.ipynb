{
 "cells": [
  {
   "cell_type": "code",
   "execution_count": 224,
   "metadata": {},
   "outputs": [],
   "source": [
    "import matplotlib.pyplot as plt\n",
    "import numpy as np\n",
    "import pandas as pd\n",
    "import seaborn as sns\n",
    "%matplotlib inline"
   ]
  },
  {
   "cell_type": "code",
   "execution_count": 225,
   "metadata": {},
   "outputs": [
    {
     "name": "stderr",
     "output_type": "stream",
     "text": [
      "/Users/mengtingyang/anaconda3/lib/python3.6/site-packages/IPython/core/interactiveshell.py:2728: DtypeWarning: Columns (0) have mixed types. Specify dtype option on import or set low_memory=False.\n",
      "  interactivity=interactivity, compiler=compiler, result=result)\n"
     ]
    }
   ],
   "source": [
    "data = pd.read_csv(\"lyft.csv\")"
   ]
  },
  {
   "cell_type": "code",
   "execution_count": 226,
   "metadata": {
    "scrolled": true
   },
   "outputs": [
    {
     "data": {
      "text/html": [
       "<div>\n",
       "<style scoped>\n",
       "    .dataframe tbody tr th:only-of-type {\n",
       "        vertical-align: middle;\n",
       "    }\n",
       "\n",
       "    .dataframe tbody tr th {\n",
       "        vertical-align: top;\n",
       "    }\n",
       "\n",
       "    .dataframe thead th {\n",
       "        text-align: right;\n",
       "    }\n",
       "</style>\n",
       "<table border=\"1\" class=\"dataframe\">\n",
       "  <thead>\n",
       "    <tr style=\"text-align: right;\">\n",
       "      <th></th>\n",
       "      <th>can_request_ride</th>\n",
       "      <th>currency</th>\n",
       "      <th>date</th>\n",
       "      <th>day</th>\n",
       "      <th>display_name</th>\n",
       "      <th>end_latitude</th>\n",
       "      <th>end_longitude</th>\n",
       "      <th>estimated_cost_cents_max</th>\n",
       "      <th>estimated_cost_cents_min</th>\n",
       "      <th>estimated_distance_miles</th>\n",
       "      <th>estimated_duration_seconds</th>\n",
       "      <th>is_valid_estimate</th>\n",
       "      <th>primetime_percentage</th>\n",
       "      <th>ride_type</th>\n",
       "      <th>start_latitude</th>\n",
       "      <th>start_longitude</th>\n",
       "      <th>time</th>\n",
       "    </tr>\n",
       "  </thead>\n",
       "  <tbody>\n",
       "    <tr>\n",
       "      <th>0</th>\n",
       "      <td>True</td>\n",
       "      <td>USD</td>\n",
       "      <td>23-Feb-18</td>\n",
       "      <td>Friday</td>\n",
       "      <td>Lyft Premier</td>\n",
       "      <td>42.355912</td>\n",
       "      <td>-71.065922</td>\n",
       "      <td>1526</td>\n",
       "      <td>1526</td>\n",
       "      <td>1.96</td>\n",
       "      <td>542</td>\n",
       "      <td>True</td>\n",
       "      <td>0%</td>\n",
       "      <td>lyft_premier</td>\n",
       "      <td>42.37245</td>\n",
       "      <td>-71.07915</td>\n",
       "      <td>0:42:11</td>\n",
       "    </tr>\n",
       "    <tr>\n",
       "      <th>1</th>\n",
       "      <td>True</td>\n",
       "      <td>USD</td>\n",
       "      <td>23-Feb-18</td>\n",
       "      <td>Friday</td>\n",
       "      <td>Lyft Line</td>\n",
       "      <td>42.355912</td>\n",
       "      <td>-71.065922</td>\n",
       "      <td>523</td>\n",
       "      <td>523</td>\n",
       "      <td>1.96</td>\n",
       "      <td>542</td>\n",
       "      <td>True</td>\n",
       "      <td>0%</td>\n",
       "      <td>lyft_line</td>\n",
       "      <td>42.37245</td>\n",
       "      <td>-71.07915</td>\n",
       "      <td>0:42:11</td>\n",
       "    </tr>\n",
       "    <tr>\n",
       "      <th>2</th>\n",
       "      <td>True</td>\n",
       "      <td>USD</td>\n",
       "      <td>23-Feb-18</td>\n",
       "      <td>Friday</td>\n",
       "      <td>Lyft Lux</td>\n",
       "      <td>42.355912</td>\n",
       "      <td>-71.065922</td>\n",
       "      <td>1986</td>\n",
       "      <td>1986</td>\n",
       "      <td>1.96</td>\n",
       "      <td>542</td>\n",
       "      <td>True</td>\n",
       "      <td>0%</td>\n",
       "      <td>lyft_lux</td>\n",
       "      <td>42.37245</td>\n",
       "      <td>-71.07915</td>\n",
       "      <td>0:42:11</td>\n",
       "    </tr>\n",
       "    <tr>\n",
       "      <th>3</th>\n",
       "      <td>True</td>\n",
       "      <td>USD</td>\n",
       "      <td>23-Feb-18</td>\n",
       "      <td>Friday</td>\n",
       "      <td>Lyft</td>\n",
       "      <td>42.355912</td>\n",
       "      <td>-71.065922</td>\n",
       "      <td>780</td>\n",
       "      <td>780</td>\n",
       "      <td>1.96</td>\n",
       "      <td>542</td>\n",
       "      <td>True</td>\n",
       "      <td>0%</td>\n",
       "      <td>lyft</td>\n",
       "      <td>42.37245</td>\n",
       "      <td>-71.07915</td>\n",
       "      <td>0:42:11</td>\n",
       "    </tr>\n",
       "    <tr>\n",
       "      <th>4</th>\n",
       "      <td>True</td>\n",
       "      <td>USD</td>\n",
       "      <td>23-Feb-18</td>\n",
       "      <td>Friday</td>\n",
       "      <td>Lyft Plus</td>\n",
       "      <td>42.355912</td>\n",
       "      <td>-71.065922</td>\n",
       "      <td>1317</td>\n",
       "      <td>1317</td>\n",
       "      <td>1.96</td>\n",
       "      <td>542</td>\n",
       "      <td>True</td>\n",
       "      <td>0%</td>\n",
       "      <td>lyft_plus</td>\n",
       "      <td>42.37245</td>\n",
       "      <td>-71.07915</td>\n",
       "      <td>0:42:11</td>\n",
       "    </tr>\n",
       "  </tbody>\n",
       "</table>\n",
       "</div>"
      ],
      "text/plain": [
       "  can_request_ride currency       date     day  display_name  end_latitude  \\\n",
       "0             True      USD  23-Feb-18  Friday  Lyft Premier     42.355912   \n",
       "1             True      USD  23-Feb-18  Friday     Lyft Line     42.355912   \n",
       "2             True      USD  23-Feb-18  Friday      Lyft Lux     42.355912   \n",
       "3             True      USD  23-Feb-18  Friday          Lyft     42.355912   \n",
       "4             True      USD  23-Feb-18  Friday     Lyft Plus     42.355912   \n",
       "\n",
       "   end_longitude  estimated_cost_cents_max  estimated_cost_cents_min  \\\n",
       "0     -71.065922                      1526                      1526   \n",
       "1     -71.065922                       523                       523   \n",
       "2     -71.065922                      1986                      1986   \n",
       "3     -71.065922                       780                       780   \n",
       "4     -71.065922                      1317                      1317   \n",
       "\n",
       "   estimated_distance_miles  estimated_duration_seconds  is_valid_estimate  \\\n",
       "0                      1.96                         542               True   \n",
       "1                      1.96                         542               True   \n",
       "2                      1.96                         542               True   \n",
       "3                      1.96                         542               True   \n",
       "4                      1.96                         542               True   \n",
       "\n",
       "  primetime_percentage     ride_type  start_latitude  start_longitude     time  \n",
       "0                   0%  lyft_premier        42.37245        -71.07915  0:42:11  \n",
       "1                   0%     lyft_line        42.37245        -71.07915  0:42:11  \n",
       "2                   0%      lyft_lux        42.37245        -71.07915  0:42:11  \n",
       "3                   0%          lyft        42.37245        -71.07915  0:42:11  \n",
       "4                   0%     lyft_plus        42.37245        -71.07915  0:42:11  "
      ]
     },
     "execution_count": 226,
     "metadata": {},
     "output_type": "execute_result"
    }
   ],
   "source": [
    "data.head()"
   ]
  },
  {
   "cell_type": "code",
   "execution_count": 227,
   "metadata": {},
   "outputs": [],
   "source": [
    "data['date_time'] = data['date'] + ' ' + data['time']"
   ]
  },
  {
   "cell_type": "code",
   "execution_count": 228,
   "metadata": {},
   "outputs": [],
   "source": [
    "data['date_time'] = pd.to_datetime(data['date_time'])"
   ]
  },
  {
   "cell_type": "code",
   "execution_count": 229,
   "metadata": {},
   "outputs": [],
   "source": [
    "data = data.set_index(pd.DatetimeIndex(data['date_time']))"
   ]
  },
  {
   "cell_type": "code",
   "execution_count": 230,
   "metadata": {},
   "outputs": [
    {
     "data": {
      "text/plain": [
       "DatetimeIndex(['2018-02-23 00:42:11', '2018-02-23 00:42:11',\n",
       "               '2018-02-23 00:42:11', '2018-02-23 00:42:11',\n",
       "               '2018-02-23 00:42:11', '2018-02-23 00:42:11',\n",
       "               '2018-02-23 00:54:56', '2018-02-23 00:54:56',\n",
       "               '2018-02-23 00:54:56', '2018-02-23 00:54:56',\n",
       "               ...\n",
       "               '2018-04-10 04:00:03', '2018-04-10 04:00:03',\n",
       "               '2018-04-10 04:00:03', '2018-04-10 04:00:03',\n",
       "               '2018-04-10 04:01:03', '2018-04-10 04:01:03',\n",
       "               '2018-04-10 04:01:03', '2018-04-10 04:01:03',\n",
       "               '2018-04-10 04:01:03', '2018-04-10 04:01:03'],\n",
       "              dtype='datetime64[ns]', name='date_time', length=383584, freq=None)"
      ]
     },
     "execution_count": 230,
     "metadata": {},
     "output_type": "execute_result"
    }
   ],
   "source": [
    "data.index"
   ]
  },
  {
   "cell_type": "code",
   "execution_count": 231,
   "metadata": {},
   "outputs": [],
   "source": [
    "data=data['2018-03-01 00:00:00':'2018-03-31 23:59:59']"
   ]
  },
  {
   "cell_type": "code",
   "execution_count": 232,
   "metadata": {},
   "outputs": [
    {
     "data": {
      "text/plain": [
       "DatetimeIndex(['2018-03-01 00:00:03', '2018-03-01 00:00:03',\n",
       "               '2018-03-01 00:00:03', '2018-03-01 00:00:03',\n",
       "               '2018-03-01 00:00:03', '2018-03-01 00:00:03',\n",
       "               '2018-03-01 00:01:03', '2018-03-01 00:01:03',\n",
       "               '2018-03-01 00:01:03', '2018-03-01 00:01:03',\n",
       "               ...\n",
       "               '2018-03-31 23:58:03', '2018-03-31 23:58:03',\n",
       "               '2018-03-31 23:58:03', '2018-03-31 23:58:03',\n",
       "               '2018-03-31 23:59:03', '2018-03-31 23:59:03',\n",
       "               '2018-03-31 23:59:03', '2018-03-31 23:59:03',\n",
       "               '2018-03-31 23:59:03', '2018-03-31 23:59:03'],\n",
       "              dtype='datetime64[ns]', name='date_time', length=266609, freq=None)"
      ]
     },
     "execution_count": 232,
     "metadata": {},
     "output_type": "execute_result"
    }
   ],
   "source": [
    "data.index"
   ]
  },
  {
   "cell_type": "code",
   "execution_count": 233,
   "metadata": {
    "scrolled": false
   },
   "outputs": [
    {
     "data": {
      "text/plain": [
       "Index(['can_request_ride', 'currency', 'date', 'day', 'display_name',\n",
       "       'end_latitude', 'end_longitude', 'estimated_cost_cents_max',\n",
       "       'estimated_cost_cents_min', 'estimated_distance_miles',\n",
       "       'estimated_duration_seconds', 'is_valid_estimate',\n",
       "       'primetime_percentage', 'ride_type', 'start_latitude',\n",
       "       'start_longitude', 'time', 'date_time'],\n",
       "      dtype='object')"
      ]
     },
     "execution_count": 233,
     "metadata": {},
     "output_type": "execute_result"
    }
   ],
   "source": [
    "data.columns"
   ]
  },
  {
   "cell_type": "markdown",
   "metadata": {},
   "source": [
    "Lyft Line is same type as Pool of Uber"
   ]
  },
  {
   "cell_type": "code",
   "execution_count": 234,
   "metadata": {},
   "outputs": [],
   "source": [
    "data_lyft_line = data[data.display_name == 'Lyft Line']"
   ]
  },
  {
   "cell_type": "code",
   "execution_count": 235,
   "metadata": {},
   "outputs": [
    {
     "name": "stderr",
     "output_type": "stream",
     "text": [
      "/Users/mengtingyang/anaconda3/lib/python3.6/site-packages/ipykernel_launcher.py:3: SettingWithCopyWarning: \n",
      "A value is trying to be set on a copy of a slice from a DataFrame\n",
      "\n",
      "See the caveats in the documentation: http://pandas.pydata.org/pandas-docs/stable/indexing.html#indexing-view-versus-copy\n",
      "  This is separate from the ipykernel package so we can avoid doing imports until\n"
     ]
    }
   ],
   "source": [
    "data_lyft_line.drop(['can_request_ride','currency', 'display_name',\n",
    "              'end_latitude','end_longitude','is_valid_estimate','primetime_percentage','ride_type',\n",
    "              'start_latitude','start_longitude'], axis=1, inplace=True)"
   ]
  },
  {
   "cell_type": "code",
   "execution_count": 236,
   "metadata": {},
   "outputs": [
    {
     "data": {
      "text/plain": [
       "Index(['date', 'day', 'estimated_cost_cents_max', 'estimated_cost_cents_min',\n",
       "       'estimated_distance_miles', 'estimated_duration_seconds', 'time',\n",
       "       'date_time'],\n",
       "      dtype='object')"
      ]
     },
     "execution_count": 236,
     "metadata": {},
     "output_type": "execute_result"
    }
   ],
   "source": [
    "data_lyft_line.columns"
   ]
  },
  {
   "cell_type": "markdown",
   "metadata": {},
   "source": [
    "Since Uber uses dollar to estimate and Lyft uses cents, we need to change cents to dollars in Lyft"
   ]
  },
  {
   "cell_type": "code",
   "execution_count": 237,
   "metadata": {
    "scrolled": true
   },
   "outputs": [
    {
     "name": "stderr",
     "output_type": "stream",
     "text": [
      "/Users/mengtingyang/anaconda3/lib/python3.6/site-packages/ipykernel_launcher.py:1: SettingWithCopyWarning: \n",
      "A value is trying to be set on a copy of a slice from a DataFrame.\n",
      "Try using .loc[row_indexer,col_indexer] = value instead\n",
      "\n",
      "See the caveats in the documentation: http://pandas.pydata.org/pandas-docs/stable/indexing.html#indexing-view-versus-copy\n",
      "  \"\"\"Entry point for launching an IPython kernel.\n",
      "/Users/mengtingyang/anaconda3/lib/python3.6/site-packages/ipykernel_launcher.py:2: SettingWithCopyWarning: \n",
      "A value is trying to be set on a copy of a slice from a DataFrame.\n",
      "Try using .loc[row_indexer,col_indexer] = value instead\n",
      "\n",
      "See the caveats in the documentation: http://pandas.pydata.org/pandas-docs/stable/indexing.html#indexing-view-versus-copy\n",
      "  \n"
     ]
    }
   ],
   "source": [
    "data_lyft_line['lyft_max_estimate'] = (data_lyft_line['estimated_cost_cents_max']).divide(100)\n",
    "data_lyft_line['lyft_min_estimate'] = (data_lyft_line['estimated_cost_cents_min']).divide(100)"
   ]
  },
  {
   "cell_type": "code",
   "execution_count": 238,
   "metadata": {},
   "outputs": [
    {
     "name": "stderr",
     "output_type": "stream",
     "text": [
      "/Users/mengtingyang/anaconda3/lib/python3.6/site-packages/ipykernel_launcher.py:1: SettingWithCopyWarning: \n",
      "A value is trying to be set on a copy of a slice from a DataFrame\n",
      "\n",
      "See the caveats in the documentation: http://pandas.pydata.org/pandas-docs/stable/indexing.html#indexing-view-versus-copy\n",
      "  \"\"\"Entry point for launching an IPython kernel.\n",
      "/Users/mengtingyang/anaconda3/lib/python3.6/site-packages/ipykernel_launcher.py:2: SettingWithCopyWarning: \n",
      "A value is trying to be set on a copy of a slice from a DataFrame\n",
      "\n",
      "See the caveats in the documentation: http://pandas.pydata.org/pandas-docs/stable/indexing.html#indexing-view-versus-copy\n",
      "  \n"
     ]
    }
   ],
   "source": [
    "data_lyft_line.drop(['estimated_cost_cents_max'], axis=1, inplace=True)\n",
    "data_lyft_line.drop(['estimated_cost_cents_min'], axis=1, inplace=True)"
   ]
  },
  {
   "cell_type": "code",
   "execution_count": 239,
   "metadata": {
    "scrolled": true
   },
   "outputs": [
    {
     "name": "stderr",
     "output_type": "stream",
     "text": [
      "/Users/mengtingyang/anaconda3/lib/python3.6/site-packages/ipykernel_launcher.py:1: SettingWithCopyWarning: \n",
      "A value is trying to be set on a copy of a slice from a DataFrame.\n",
      "Try using .loc[row_indexer,col_indexer] = value instead\n",
      "\n",
      "See the caveats in the documentation: http://pandas.pydata.org/pandas-docs/stable/indexing.html#indexing-view-versus-copy\n",
      "  \"\"\"Entry point for launching an IPython kernel.\n"
     ]
    }
   ],
   "source": [
    "data_lyft_line['estimate'] = (data_lyft_line['lyft_max_estimate'] + data_lyft_line['lyft_min_estimate'])/2"
   ]
  },
  {
   "cell_type": "markdown",
   "metadata": {},
   "source": [
    "Also, make the column names shorter"
   ]
  },
  {
   "cell_type": "code",
   "execution_count": 240,
   "metadata": {
    "scrolled": true
   },
   "outputs": [
    {
     "name": "stderr",
     "output_type": "stream",
     "text": [
      "/Users/mengtingyang/anaconda3/lib/python3.6/site-packages/pandas/core/frame.py:3027: SettingWithCopyWarning: \n",
      "A value is trying to be set on a copy of a slice from a DataFrame\n",
      "\n",
      "See the caveats in the documentation: http://pandas.pydata.org/pandas-docs/stable/indexing.html#indexing-view-versus-copy\n",
      "  return super(DataFrame, self).rename(**kwargs)\n"
     ]
    }
   ],
   "source": [
    "data_lyft_line.rename(columns={\"estimate\": \"lyft_estimate\"},inplace=True)\n",
    "data_lyft_line.rename(columns={\"estimated_distance_miles\": \"lyft_distance\"},inplace=True)\n",
    "data_lyft_line.rename(columns={\"estimated_duration_seconds\": \"lyft_duration\"},inplace=True)"
   ]
  },
  {
   "cell_type": "code",
   "execution_count": 241,
   "metadata": {
    "scrolled": true
   },
   "outputs": [
    {
     "name": "stderr",
     "output_type": "stream",
     "text": [
      "/Users/mengtingyang/anaconda3/lib/python3.6/site-packages/ipykernel_launcher.py:1: SettingWithCopyWarning: \n",
      "A value is trying to be set on a copy of a slice from a DataFrame.\n",
      "Try using .loc[row_indexer,col_indexer] = value instead\n",
      "\n",
      "See the caveats in the documentation: http://pandas.pydata.org/pandas-docs/stable/indexing.html#indexing-view-versus-copy\n",
      "  \"\"\"Entry point for launching an IPython kernel.\n"
     ]
    }
   ],
   "source": [
    "data_lyft_line['lyft_price_per_second'] = data_lyft_line['lyft_estimate']/data_lyft_line['lyft_duration']"
   ]
  },
  {
   "cell_type": "code",
   "execution_count": 242,
   "metadata": {},
   "outputs": [
    {
     "data": {
      "text/html": [
       "<div>\n",
       "<style scoped>\n",
       "    .dataframe tbody tr th:only-of-type {\n",
       "        vertical-align: middle;\n",
       "    }\n",
       "\n",
       "    .dataframe tbody tr th {\n",
       "        vertical-align: top;\n",
       "    }\n",
       "\n",
       "    .dataframe thead th {\n",
       "        text-align: right;\n",
       "    }\n",
       "</style>\n",
       "<table border=\"1\" class=\"dataframe\">\n",
       "  <thead>\n",
       "    <tr style=\"text-align: right;\">\n",
       "      <th></th>\n",
       "      <th>date</th>\n",
       "      <th>day</th>\n",
       "      <th>lyft_distance</th>\n",
       "      <th>lyft_duration</th>\n",
       "      <th>time</th>\n",
       "      <th>date_time</th>\n",
       "      <th>lyft_max_estimate</th>\n",
       "      <th>lyft_min_estimate</th>\n",
       "      <th>lyft_estimate</th>\n",
       "      <th>lyft_price_per_second</th>\n",
       "    </tr>\n",
       "    <tr>\n",
       "      <th>date_time</th>\n",
       "      <th></th>\n",
       "      <th></th>\n",
       "      <th></th>\n",
       "      <th></th>\n",
       "      <th></th>\n",
       "      <th></th>\n",
       "      <th></th>\n",
       "      <th></th>\n",
       "      <th></th>\n",
       "      <th></th>\n",
       "    </tr>\n",
       "  </thead>\n",
       "  <tbody>\n",
       "    <tr>\n",
       "      <th>2018-03-01 00:00:03</th>\n",
       "      <td>1-Mar-18</td>\n",
       "      <td>Thursday</td>\n",
       "      <td>1.76</td>\n",
       "      <td>414</td>\n",
       "      <td>0:00:03</td>\n",
       "      <td>2018-03-01 00:00:03</td>\n",
       "      <td>3.40</td>\n",
       "      <td>3.40</td>\n",
       "      <td>3.40</td>\n",
       "      <td>0.008213</td>\n",
       "    </tr>\n",
       "    <tr>\n",
       "      <th>2018-03-01 00:01:03</th>\n",
       "      <td>1-Mar-18</td>\n",
       "      <td>Thursday</td>\n",
       "      <td>1.79</td>\n",
       "      <td>537</td>\n",
       "      <td>0:01:03</td>\n",
       "      <td>2018-03-01 00:01:03</td>\n",
       "      <td>3.53</td>\n",
       "      <td>3.53</td>\n",
       "      <td>3.53</td>\n",
       "      <td>0.006574</td>\n",
       "    </tr>\n",
       "    <tr>\n",
       "      <th>2018-03-01 00:02:03</th>\n",
       "      <td>1-Mar-18</td>\n",
       "      <td>Thursday</td>\n",
       "      <td>2.20</td>\n",
       "      <td>487</td>\n",
       "      <td>0:02:03</td>\n",
       "      <td>2018-03-01 00:02:03</td>\n",
       "      <td>3.85</td>\n",
       "      <td>3.85</td>\n",
       "      <td>3.85</td>\n",
       "      <td>0.007906</td>\n",
       "    </tr>\n",
       "    <tr>\n",
       "      <th>2018-03-01 00:03:02</th>\n",
       "      <td>1-Mar-18</td>\n",
       "      <td>Thursday</td>\n",
       "      <td>1.70</td>\n",
       "      <td>472</td>\n",
       "      <td>0:03:02</td>\n",
       "      <td>2018-03-01 00:03:02</td>\n",
       "      <td>3.46</td>\n",
       "      <td>3.46</td>\n",
       "      <td>3.46</td>\n",
       "      <td>0.007331</td>\n",
       "    </tr>\n",
       "    <tr>\n",
       "      <th>2018-03-01 00:04:02</th>\n",
       "      <td>1-Mar-18</td>\n",
       "      <td>Thursday</td>\n",
       "      <td>2.21</td>\n",
       "      <td>553</td>\n",
       "      <td>0:04:02</td>\n",
       "      <td>2018-03-01 00:04:02</td>\n",
       "      <td>3.47</td>\n",
       "      <td>3.47</td>\n",
       "      <td>3.47</td>\n",
       "      <td>0.006275</td>\n",
       "    </tr>\n",
       "  </tbody>\n",
       "</table>\n",
       "</div>"
      ],
      "text/plain": [
       "                         date       day  lyft_distance  lyft_duration  \\\n",
       "date_time                                                               \n",
       "2018-03-01 00:00:03  1-Mar-18  Thursday           1.76            414   \n",
       "2018-03-01 00:01:03  1-Mar-18  Thursday           1.79            537   \n",
       "2018-03-01 00:02:03  1-Mar-18  Thursday           2.20            487   \n",
       "2018-03-01 00:03:02  1-Mar-18  Thursday           1.70            472   \n",
       "2018-03-01 00:04:02  1-Mar-18  Thursday           2.21            553   \n",
       "\n",
       "                        time           date_time  lyft_max_estimate  \\\n",
       "date_time                                                             \n",
       "2018-03-01 00:00:03  0:00:03 2018-03-01 00:00:03               3.40   \n",
       "2018-03-01 00:01:03  0:01:03 2018-03-01 00:01:03               3.53   \n",
       "2018-03-01 00:02:03  0:02:03 2018-03-01 00:02:03               3.85   \n",
       "2018-03-01 00:03:02  0:03:02 2018-03-01 00:03:02               3.46   \n",
       "2018-03-01 00:04:02  0:04:02 2018-03-01 00:04:02               3.47   \n",
       "\n",
       "                     lyft_min_estimate  lyft_estimate  lyft_price_per_second  \n",
       "date_time                                                                     \n",
       "2018-03-01 00:00:03               3.40           3.40               0.008213  \n",
       "2018-03-01 00:01:03               3.53           3.53               0.006574  \n",
       "2018-03-01 00:02:03               3.85           3.85               0.007906  \n",
       "2018-03-01 00:03:02               3.46           3.46               0.007331  \n",
       "2018-03-01 00:04:02               3.47           3.47               0.006275  "
      ]
     },
     "execution_count": 242,
     "metadata": {},
     "output_type": "execute_result"
    }
   ],
   "source": [
    "data_lyft_line.head()"
   ]
  },
  {
   "cell_type": "code",
   "execution_count": 243,
   "metadata": {
    "scrolled": false
   },
   "outputs": [
    {
     "data": {
      "image/png": "[encoded data removed]",
      "text/plain": [
       "<matplotlib.figure.Figure at 0x1a56c9edd8>"
      ]
     },
     "metadata": {},
     "output_type": "display_data"
    }
   ],
   "source": [
    "plt.rcParams[\"figure.figsize\"] = (20, 10)\n",
    "plt.plot(data_lyft_line.index, data_lyft_line['lyft_price_per_second'])\n",
    "plt.title('Lyft Price Estimate')\n",
    "plt.ylabel('Price ($)')\n",
    "plt.show()"
   ]
  },
  {
   "cell_type": "code",
   "execution_count": 244,
   "metadata": {
    "scrolled": true
   },
   "outputs": [
    {
     "name": "stderr",
     "output_type": "stream",
     "text": [
      "/Users/mengtingyang/anaconda3/lib/python3.6/site-packages/ipykernel_launcher.py:1: SettingWithCopyWarning: \n",
      "A value is trying to be set on a copy of a slice from a DataFrame\n",
      "\n",
      "See the caveats in the documentation: http://pandas.pydata.org/pandas-docs/stable/indexing.html#indexing-view-versus-copy\n",
      "  \"\"\"Entry point for launching an IPython kernel.\n"
     ]
    }
   ],
   "source": [
    "data_lyft_line.drop(['date_time'], axis=1, inplace=True)"
   ]
  },
  {
   "cell_type": "code",
   "execution_count": 245,
   "metadata": {},
   "outputs": [],
   "source": [
    "data_lyft_line.to_csv('lyft_line_March.csv', sep=',')"
   ]
  },
  {
   "cell_type": "code",
   "execution_count": null,
   "metadata": {},
   "outputs": [],
   "source": []
  }
 ],
 "metadata": {
  "kernelspec": {
   "display_name": "Python 3",
   "language": "python",
   "name": "python3"
  },
  "language_info": {
   "codemirror_mode": {
    "name": "ipython",
    "version": 3
   },
   "file_extension": ".py",
   "mimetype": "text/x-python",
   "name": "python",
   "nbconvert_exporter": "python",
   "pygments_lexer": "ipython3",
   "version": "3.6.4"
  }
 },
 "nbformat": 4,
 "nbformat_minor": 2
}
