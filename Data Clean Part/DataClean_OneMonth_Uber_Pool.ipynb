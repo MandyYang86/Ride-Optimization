{
 "cells": [
  {
   "cell_type": "markdown",
   "metadata": {},
   "source": [
    "#### This Notebook is used to clean the data of Uber\n",
    "\n",
    "First, we will import all the packages we need"
   ]
  },
  {
   "cell_type": "code",
   "execution_count": 218,
   "metadata": {},
   "outputs": [],
   "source": [
    "import matplotlib.pyplot as plt\n",
    "import numpy as np\n",
    "import pandas as pd\n",
    "import seaborn as sns\n",
    "%matplotlib inline"
   ]
  },
  {
   "cell_type": "markdown",
   "metadata": {},
   "source": [
    "Read the file use Pandas"
   ]
  },
  {
   "cell_type": "code",
   "execution_count": 219,
   "metadata": {
    "scrolled": false
   },
   "outputs": [
    {
     "name": "stderr",
     "output_type": "stream",
     "text": [
      "/Users/mengtingyang/anaconda3/lib/python3.6/site-packages/IPython/core/interactiveshell.py:2728: DtypeWarning: Columns (13,14,15) have mixed types. Specify dtype option on import or set low_memory=False.\n",
      "  interactivity=interactivity, compiler=compiler, result=result)\n"
     ]
    }
   ],
   "source": [
    "data = pd.read_csv(\"uber.csv\")"
   ]
  },
  {
   "cell_type": "markdown",
   "metadata": {},
   "source": [
    "Let's see what the data looks like"
   ]
  },
  {
   "cell_type": "code",
   "execution_count": 220,
   "metadata": {
    "scrolled": false
   },
   "outputs": [
    {
     "data": {
      "text/html": [
       "<div>\n",
       "<style scoped>\n",
       "    .dataframe tbody tr th:only-of-type {\n",
       "        vertical-align: middle;\n",
       "    }\n",
       "\n",
       "    .dataframe tbody tr th {\n",
       "        vertical-align: top;\n",
       "    }\n",
       "\n",
       "    .dataframe thead th {\n",
       "        text-align: right;\n",
       "    }\n",
       "</style>\n",
       "<table border=\"1\" class=\"dataframe\">\n",
       "  <thead>\n",
       "    <tr style=\"text-align: right;\">\n",
       "      <th></th>\n",
       "      <th>currency_code</th>\n",
       "      <th>date</th>\n",
       "      <th>day</th>\n",
       "      <th>display_name</th>\n",
       "      <th>distance</th>\n",
       "      <th>duration</th>\n",
       "      <th>end_latitude</th>\n",
       "      <th>end_location</th>\n",
       "      <th>end_longitude</th>\n",
       "      <th>estimate</th>\n",
       "      <th>...</th>\n",
       "      <th>low_estimate</th>\n",
       "      <th>main_temp</th>\n",
       "      <th>main_temp_max</th>\n",
       "      <th>main_temp_min</th>\n",
       "      <th>product_id</th>\n",
       "      <th>start_latitude</th>\n",
       "      <th>start_location</th>\n",
       "      <th>start_longitude</th>\n",
       "      <th>time</th>\n",
       "      <th>weather</th>\n",
       "    </tr>\n",
       "  </thead>\n",
       "  <tbody>\n",
       "    <tr>\n",
       "      <th>0</th>\n",
       "      <td>USD</td>\n",
       "      <td>23-Feb-18</td>\n",
       "      <td>Friday</td>\n",
       "      <td>POOL</td>\n",
       "      <td>1.69</td>\n",
       "      <td>420</td>\n",
       "      <td>42.355912</td>\n",
       "      <td>The Boston Common Frog Pond</td>\n",
       "      <td>-71.065922</td>\n",
       "      <td>$5-8</td>\n",
       "      <td>...</td>\n",
       "      <td>5.0</td>\n",
       "      <td>0    272.61\\r\\rName: main_temp, dtype: float64</td>\n",
       "      <td>0    275.15\\r\\rName: main_temp_max, dtype: flo...</td>\n",
       "      <td>0    269.15\\r\\rName: main_temp_min, dtype: flo...</td>\n",
       "      <td>997acbb5-e102-41e1-b155-9df7de0a73f2</td>\n",
       "      <td>42.37245</td>\n",
       "      <td>Raw Fitness Performance</td>\n",
       "      <td>-71.07915</td>\n",
       "      <td>0:42:11</td>\n",
       "      <td>0    Mist\\r\\rName: weather, dtype: object</td>\n",
       "    </tr>\n",
       "    <tr>\n",
       "      <th>1</th>\n",
       "      <td>USD</td>\n",
       "      <td>23-Feb-18</td>\n",
       "      <td>Friday</td>\n",
       "      <td>uberX</td>\n",
       "      <td>1.69</td>\n",
       "      <td>420</td>\n",
       "      <td>42.355912</td>\n",
       "      <td>The Boston Common Frog Pond</td>\n",
       "      <td>-71.065922</td>\n",
       "      <td>$7-10</td>\n",
       "      <td>...</td>\n",
       "      <td>7.0</td>\n",
       "      <td>0    272.61\\r\\rName: main_temp, dtype: float64</td>\n",
       "      <td>0    275.15\\r\\rName: main_temp_max, dtype: flo...</td>\n",
       "      <td>0    269.15\\r\\rName: main_temp_min, dtype: flo...</td>\n",
       "      <td>55c66225-fbe7-4fd5-9072-eab1ece5e23e</td>\n",
       "      <td>42.37245</td>\n",
       "      <td>Raw Fitness Performance</td>\n",
       "      <td>-71.07915</td>\n",
       "      <td>0:42:11</td>\n",
       "      <td>0    Mist\\r\\rName: weather, dtype: object</td>\n",
       "    </tr>\n",
       "    <tr>\n",
       "      <th>2</th>\n",
       "      <td>USD</td>\n",
       "      <td>23-Feb-18</td>\n",
       "      <td>Friday</td>\n",
       "      <td>uberSUV</td>\n",
       "      <td>1.69</td>\n",
       "      <td>420</td>\n",
       "      <td>42.355912</td>\n",
       "      <td>The Boston Common Frog Pond</td>\n",
       "      <td>-71.065922</td>\n",
       "      <td>$23-29</td>\n",
       "      <td>...</td>\n",
       "      <td>23.0</td>\n",
       "      <td>0    272.61\\r\\rName: main_temp, dtype: float64</td>\n",
       "      <td>0    275.15\\r\\rName: main_temp_max, dtype: flo...</td>\n",
       "      <td>0    269.15\\r\\rName: main_temp_min, dtype: flo...</td>\n",
       "      <td>6d318bcc-22a3-4af6-bddd-b409bfce1546</td>\n",
       "      <td>42.37245</td>\n",
       "      <td>Raw Fitness Performance</td>\n",
       "      <td>-71.07915</td>\n",
       "      <td>0:42:11</td>\n",
       "      <td>0    Mist\\r\\rName: weather, dtype: object</td>\n",
       "    </tr>\n",
       "    <tr>\n",
       "      <th>3</th>\n",
       "      <td>USD</td>\n",
       "      <td>23-Feb-18</td>\n",
       "      <td>Friday</td>\n",
       "      <td>uberXL</td>\n",
       "      <td>1.69</td>\n",
       "      <td>420</td>\n",
       "      <td>42.355912</td>\n",
       "      <td>The Boston Common Frog Pond</td>\n",
       "      <td>-71.065922</td>\n",
       "      <td>$12-16</td>\n",
       "      <td>...</td>\n",
       "      <td>12.0</td>\n",
       "      <td>0    272.61\\r\\rName: main_temp, dtype: float64</td>\n",
       "      <td>0    275.15\\r\\rName: main_temp_max, dtype: flo...</td>\n",
       "      <td>0    269.15\\r\\rName: main_temp_min, dtype: flo...</td>\n",
       "      <td>6f72dfc5-27f1-42e8-84db-ccc7a75f6969</td>\n",
       "      <td>42.37245</td>\n",
       "      <td>Raw Fitness Performance</td>\n",
       "      <td>-71.07915</td>\n",
       "      <td>0:42:11</td>\n",
       "      <td>0    Mist\\r\\rName: weather, dtype: object</td>\n",
       "    </tr>\n",
       "    <tr>\n",
       "      <th>4</th>\n",
       "      <td>USD</td>\n",
       "      <td>23-Feb-18</td>\n",
       "      <td>Friday</td>\n",
       "      <td>UberBLACK</td>\n",
       "      <td>1.69</td>\n",
       "      <td>420</td>\n",
       "      <td>42.355912</td>\n",
       "      <td>The Boston Common Frog Pond</td>\n",
       "      <td>-71.065922</td>\n",
       "      <td>$17-22</td>\n",
       "      <td>...</td>\n",
       "      <td>17.0</td>\n",
       "      <td>0    272.61\\r\\rName: main_temp, dtype: float64</td>\n",
       "      <td>0    275.15\\r\\rName: main_temp_max, dtype: flo...</td>\n",
       "      <td>0    269.15\\r\\rName: main_temp_min, dtype: flo...</td>\n",
       "      <td>6c84fd89-3f11-4782-9b50-97c468b19529</td>\n",
       "      <td>42.37245</td>\n",
       "      <td>Raw Fitness Performance</td>\n",
       "      <td>-71.07915</td>\n",
       "      <td>0:42:11</td>\n",
       "      <td>0    Mist\\r\\rName: weather, dtype: object</td>\n",
       "    </tr>\n",
       "  </tbody>\n",
       "</table>\n",
       "<p>5 rows × 22 columns</p>\n",
       "</div>"
      ],
      "text/plain": [
       "  currency_code       date     day display_name  distance  duration  \\\n",
       "0           USD  23-Feb-18  Friday         POOL      1.69       420   \n",
       "1           USD  23-Feb-18  Friday        uberX      1.69       420   \n",
       "2           USD  23-Feb-18  Friday      uberSUV      1.69       420   \n",
       "3           USD  23-Feb-18  Friday       uberXL      1.69       420   \n",
       "4           USD  23-Feb-18  Friday    UberBLACK      1.69       420   \n",
       "\n",
       "   end_latitude                 end_location  end_longitude estimate  \\\n",
       "0     42.355912  The Boston Common Frog Pond     -71.065922     $5-8   \n",
       "1     42.355912  The Boston Common Frog Pond     -71.065922    $7-10   \n",
       "2     42.355912  The Boston Common Frog Pond     -71.065922   $23-29   \n",
       "3     42.355912  The Boston Common Frog Pond     -71.065922   $12-16   \n",
       "4     42.355912  The Boston Common Frog Pond     -71.065922   $17-22   \n",
       "\n",
       "                     ...                      low_estimate  \\\n",
       "0                    ...                               5.0   \n",
       "1                    ...                               7.0   \n",
       "2                    ...                              23.0   \n",
       "3                    ...                              12.0   \n",
       "4                    ...                              17.0   \n",
       "\n",
       "                                        main_temp  \\\n",
       "0  0    272.61\\r\\rName: main_temp, dtype: float64   \n",
       "1  0    272.61\\r\\rName: main_temp, dtype: float64   \n",
       "2  0    272.61\\r\\rName: main_temp, dtype: float64   \n",
       "3  0    272.61\\r\\rName: main_temp, dtype: float64   \n",
       "4  0    272.61\\r\\rName: main_temp, dtype: float64   \n",
       "\n",
       "                                       main_temp_max  \\\n",
       "0  0    275.15\\r\\rName: main_temp_max, dtype: flo...   \n",
       "1  0    275.15\\r\\rName: main_temp_max, dtype: flo...   \n",
       "2  0    275.15\\r\\rName: main_temp_max, dtype: flo...   \n",
       "3  0    275.15\\r\\rName: main_temp_max, dtype: flo...   \n",
       "4  0    275.15\\r\\rName: main_temp_max, dtype: flo...   \n",
       "\n",
       "                                       main_temp_min  \\\n",
       "0  0    269.15\\r\\rName: main_temp_min, dtype: flo...   \n",
       "1  0    269.15\\r\\rName: main_temp_min, dtype: flo...   \n",
       "2  0    269.15\\r\\rName: main_temp_min, dtype: flo...   \n",
       "3  0    269.15\\r\\rName: main_temp_min, dtype: flo...   \n",
       "4  0    269.15\\r\\rName: main_temp_min, dtype: flo...   \n",
       "\n",
       "                             product_id start_latitude  \\\n",
       "0  997acbb5-e102-41e1-b155-9df7de0a73f2       42.37245   \n",
       "1  55c66225-fbe7-4fd5-9072-eab1ece5e23e       42.37245   \n",
       "2  6d318bcc-22a3-4af6-bddd-b409bfce1546       42.37245   \n",
       "3  6f72dfc5-27f1-42e8-84db-ccc7a75f6969       42.37245   \n",
       "4  6c84fd89-3f11-4782-9b50-97c468b19529       42.37245   \n",
       "\n",
       "            start_location  start_longitude     time  \\\n",
       "0  Raw Fitness Performance        -71.07915  0:42:11   \n",
       "1  Raw Fitness Performance        -71.07915  0:42:11   \n",
       "2  Raw Fitness Performance        -71.07915  0:42:11   \n",
       "3  Raw Fitness Performance        -71.07915  0:42:11   \n",
       "4  Raw Fitness Performance        -71.07915  0:42:11   \n",
       "\n",
       "                                     weather  \n",
       "0  0    Mist\\r\\rName: weather, dtype: object  \n",
       "1  0    Mist\\r\\rName: weather, dtype: object  \n",
       "2  0    Mist\\r\\rName: weather, dtype: object  \n",
       "3  0    Mist\\r\\rName: weather, dtype: object  \n",
       "4  0    Mist\\r\\rName: weather, dtype: object  \n",
       "\n",
       "[5 rows x 22 columns]"
      ]
     },
     "execution_count": 220,
     "metadata": {},
     "output_type": "execute_result"
    }
   ],
   "source": [
    "data.head()"
   ]
  },
  {
   "cell_type": "markdown",
   "metadata": {},
   "source": [
    "In order to set the time series index, we combine the date and the time columns together as 'date_time' first"
   ]
  },
  {
   "cell_type": "code",
   "execution_count": 221,
   "metadata": {
    "scrolled": true
   },
   "outputs": [],
   "source": [
    "data['date_time'] = data['date'].astype(str) + ' ' + data['time']"
   ]
  },
  {
   "cell_type": "markdown",
   "metadata": {},
   "source": [
    "Then we transfer the datatype to datetime"
   ]
  },
  {
   "cell_type": "code",
   "execution_count": 222,
   "metadata": {},
   "outputs": [],
   "source": [
    "data['date_time'] = pd.to_datetime(data['date_time'])"
   ]
  },
  {
   "cell_type": "markdown",
   "metadata": {},
   "source": [
    "We use the date_time as index"
   ]
  },
  {
   "cell_type": "code",
   "execution_count": 223,
   "metadata": {
    "scrolled": true
   },
   "outputs": [],
   "source": [
    "data = data.set_index(pd.DatetimeIndex(data['date_time']))"
   ]
  },
  {
   "cell_type": "markdown",
   "metadata": {},
   "source": [
    "Let's see our index"
   ]
  },
  {
   "cell_type": "code",
   "execution_count": 224,
   "metadata": {
    "scrolled": true
   },
   "outputs": [
    {
     "data": {
      "text/plain": [
       "DatetimeIndex(['2018-02-23 00:42:11', '2018-02-23 00:42:11',\n",
       "               '2018-02-23 00:42:11', '2018-02-23 00:42:11',\n",
       "               '2018-02-23 00:42:11', '2018-02-23 00:42:11',\n",
       "               '2018-02-23 00:42:11', '2018-02-23 00:54:56',\n",
       "               '2018-02-23 00:54:56', '2018-02-23 00:54:56',\n",
       "               ...\n",
       "               '2018-04-10 04:01:03', '2018-04-10 04:01:03',\n",
       "               '2018-04-10 04:01:03', '2018-04-10 04:02:03',\n",
       "               '2018-04-10 04:02:03', '2018-04-10 04:02:03',\n",
       "               '2018-04-10 04:02:03', '2018-04-10 04:02:03',\n",
       "               '2018-04-10 04:02:03', '2018-04-10 04:02:03'],\n",
       "              dtype='datetime64[ns]', name='date_time', length=447517, freq=None)"
      ]
     },
     "execution_count": 224,
     "metadata": {},
     "output_type": "execute_result"
    }
   ],
   "source": [
    "data.index"
   ]
  },
  {
   "cell_type": "markdown",
   "metadata": {},
   "source": [
    "We first test our data on server some time and we will use the data of whole March"
   ]
  },
  {
   "cell_type": "code",
   "execution_count": 225,
   "metadata": {},
   "outputs": [],
   "source": [
    "data=data['2018-03-01 00:00:00':'2018-03-31 23:59:59']"
   ]
  },
  {
   "cell_type": "markdown",
   "metadata": {},
   "source": [
    "Now, let's look our index again"
   ]
  },
  {
   "cell_type": "code",
   "execution_count": 226,
   "metadata": {},
   "outputs": [
    {
     "data": {
      "text/plain": [
       "DatetimeIndex(['2018-03-01 00:00:03', '2018-03-01 00:00:03',\n",
       "               '2018-03-01 00:00:03', '2018-03-01 00:00:03',\n",
       "               '2018-03-01 00:00:03', '2018-03-01 00:00:03',\n",
       "               '2018-03-01 00:00:03', '2018-03-01 00:01:03',\n",
       "               '2018-03-01 00:01:03', '2018-03-01 00:01:03',\n",
       "               ...\n",
       "               '2018-03-31 23:58:03', '2018-03-31 23:58:03',\n",
       "               '2018-03-31 23:58:03', '2018-03-31 23:59:03',\n",
       "               '2018-03-31 23:59:03', '2018-03-31 23:59:03',\n",
       "               '2018-03-31 23:59:03', '2018-03-31 23:59:03',\n",
       "               '2018-03-31 23:59:03', '2018-03-31 23:59:03'],\n",
       "              dtype='datetime64[ns]', name='date_time', length=311038, freq=None)"
      ]
     },
     "execution_count": 226,
     "metadata": {},
     "output_type": "execute_result"
    }
   ],
   "source": [
    "data.index"
   ]
  },
  {
   "cell_type": "code",
   "execution_count": 227,
   "metadata": {
    "scrolled": true
   },
   "outputs": [
    {
     "data": {
      "text/plain": [
       "Index(['currency_code', 'date', 'day', 'display_name', 'distance', 'duration',\n",
       "       'end_latitude', 'end_location', 'end_longitude', 'estimate',\n",
       "       'high_estimate', 'localized_display_name', 'low_estimate', 'main_temp',\n",
       "       'main_temp_max', 'main_temp_min', 'product_id', 'start_latitude',\n",
       "       'start_location', 'start_longitude', 'time', 'weather', 'date_time'],\n",
       "      dtype='object')"
      ]
     },
     "execution_count": 227,
     "metadata": {},
     "output_type": "execute_result"
    }
   ],
   "source": [
    "data.columns"
   ]
  },
  {
   "cell_type": "markdown",
   "metadata": {},
   "source": [
    "For now, we just analyze the pool type of Uber"
   ]
  },
  {
   "cell_type": "code",
   "execution_count": 228,
   "metadata": {},
   "outputs": [],
   "source": [
    "data_uber_pool = data[data.display_name == 'POOL']"
   ]
  },
  {
   "cell_type": "markdown",
   "metadata": {},
   "source": [
    "We drop some useless columns in order to increase the analysis speed"
   ]
  },
  {
   "cell_type": "code",
   "execution_count": 229,
   "metadata": {
    "scrolled": true
   },
   "outputs": [
    {
     "name": "stderr",
     "output_type": "stream",
     "text": [
      "/Users/mengtingyang/anaconda3/lib/python3.6/site-packages/ipykernel_launcher.py:3: SettingWithCopyWarning: \n",
      "A value is trying to be set on a copy of a slice from a DataFrame\n",
      "\n",
      "See the caveats in the documentation: http://pandas.pydata.org/pandas-docs/stable/indexing.html#indexing-view-versus-copy\n",
      "  This is separate from the ipykernel package so we can avoid doing imports until\n"
     ]
    }
   ],
   "source": [
    "data_uber_pool.drop(['currency_code','main_temp_max', 'main_temp_min','display_name',\n",
    "              'product_id','end_latitude','end_location','end_longitude','start_latitude',\n",
    "              'start_location','start_longitude','localized_display_name'], axis=1, inplace=True)"
   ]
  },
  {
   "cell_type": "markdown",
   "metadata": {},
   "source": [
    "Let's look at the columns we left"
   ]
  },
  {
   "cell_type": "code",
   "execution_count": 230,
   "metadata": {},
   "outputs": [
    {
     "data": {
      "text/plain": [
       "Index(['date', 'day', 'distance', 'duration', 'estimate', 'high_estimate',\n",
       "       'low_estimate', 'main_temp', 'time', 'weather', 'date_time'],\n",
       "      dtype='object')"
      ]
     },
     "execution_count": 230,
     "metadata": {},
     "output_type": "execute_result"
    }
   ],
   "source": [
    "data_uber_pool.columns"
   ]
  },
  {
   "cell_type": "markdown",
   "metadata": {},
   "source": [
    "We use the average estimate price to incease the accuracy"
   ]
  },
  {
   "cell_type": "code",
   "execution_count": 231,
   "metadata": {
    "scrolled": false
   },
   "outputs": [
    {
     "name": "stderr",
     "output_type": "stream",
     "text": [
      "/Users/mengtingyang/anaconda3/lib/python3.6/site-packages/ipykernel_launcher.py:1: SettingWithCopyWarning: \n",
      "A value is trying to be set on a copy of a slice from a DataFrame.\n",
      "Try using .loc[row_indexer,col_indexer] = value instead\n",
      "\n",
      "See the caveats in the documentation: http://pandas.pydata.org/pandas-docs/stable/indexing.html#indexing-view-versus-copy\n",
      "  \"\"\"Entry point for launching an IPython kernel.\n"
     ]
    }
   ],
   "source": [
    "data_uber_pool['estimate'] = (data_uber_pool['high_estimate'] + data_uber_pool['low_estimate'])/2"
   ]
  },
  {
   "cell_type": "markdown",
   "metadata": {},
   "source": [
    "We also calculate the price per second to compare easily with Lyft"
   ]
  },
  {
   "cell_type": "code",
   "execution_count": 232,
   "metadata": {},
   "outputs": [
    {
     "name": "stderr",
     "output_type": "stream",
     "text": [
      "/Users/mengtingyang/anaconda3/lib/python3.6/site-packages/ipykernel_launcher.py:1: SettingWithCopyWarning: \n",
      "A value is trying to be set on a copy of a slice from a DataFrame.\n",
      "Try using .loc[row_indexer,col_indexer] = value instead\n",
      "\n",
      "See the caveats in the documentation: http://pandas.pydata.org/pandas-docs/stable/indexing.html#indexing-view-versus-copy\n",
      "  \"\"\"Entry point for launching an IPython kernel.\n"
     ]
    }
   ],
   "source": [
    "data_uber_pool['uber_price_per_second'] = data_uber_pool['estimate']/data_uber_pool['duration']"
   ]
  },
  {
   "cell_type": "code",
   "execution_count": 233,
   "metadata": {
    "scrolled": true
   },
   "outputs": [
    {
     "data": {
      "text/html": [
       "<div>\n",
       "<style scoped>\n",
       "    .dataframe tbody tr th:only-of-type {\n",
       "        vertical-align: middle;\n",
       "    }\n",
       "\n",
       "    .dataframe tbody tr th {\n",
       "        vertical-align: top;\n",
       "    }\n",
       "\n",
       "    .dataframe thead th {\n",
       "        text-align: right;\n",
       "    }\n",
       "</style>\n",
       "<table border=\"1\" class=\"dataframe\">\n",
       "  <thead>\n",
       "    <tr style=\"text-align: right;\">\n",
       "      <th></th>\n",
       "      <th>date</th>\n",
       "      <th>day</th>\n",
       "      <th>distance</th>\n",
       "      <th>duration</th>\n",
       "      <th>estimate</th>\n",
       "      <th>high_estimate</th>\n",
       "      <th>low_estimate</th>\n",
       "      <th>main_temp</th>\n",
       "      <th>time</th>\n",
       "      <th>weather</th>\n",
       "      <th>date_time</th>\n",
       "      <th>uber_price_per_second</th>\n",
       "    </tr>\n",
       "    <tr>\n",
       "      <th>date_time</th>\n",
       "      <th></th>\n",
       "      <th></th>\n",
       "      <th></th>\n",
       "      <th></th>\n",
       "      <th></th>\n",
       "      <th></th>\n",
       "      <th></th>\n",
       "      <th></th>\n",
       "      <th></th>\n",
       "      <th></th>\n",
       "      <th></th>\n",
       "      <th></th>\n",
       "    </tr>\n",
       "  </thead>\n",
       "  <tbody>\n",
       "    <tr>\n",
       "      <th>2018-03-01 00:00:03</th>\n",
       "      <td>1-Mar-18</td>\n",
       "      <td>Thursday</td>\n",
       "      <td>1.73</td>\n",
       "      <td>360</td>\n",
       "      <td>7.5</td>\n",
       "      <td>9.0</td>\n",
       "      <td>6.0</td>\n",
       "      <td>46.69</td>\n",
       "      <td>0:00:03</td>\n",
       "      <td>Rain</td>\n",
       "      <td>2018-03-01 00:00:03</td>\n",
       "      <td>0.020833</td>\n",
       "    </tr>\n",
       "    <tr>\n",
       "      <th>2018-03-01 00:01:03</th>\n",
       "      <td>1-Mar-18</td>\n",
       "      <td>Thursday</td>\n",
       "      <td>1.90</td>\n",
       "      <td>480</td>\n",
       "      <td>5.5</td>\n",
       "      <td>7.0</td>\n",
       "      <td>4.0</td>\n",
       "      <td>46.69</td>\n",
       "      <td>0:01:03</td>\n",
       "      <td>Rain</td>\n",
       "      <td>2018-03-01 00:01:03</td>\n",
       "      <td>0.011458</td>\n",
       "    </tr>\n",
       "    <tr>\n",
       "      <th>2018-03-01 00:02:03</th>\n",
       "      <td>1-Mar-18</td>\n",
       "      <td>Thursday</td>\n",
       "      <td>2.26</td>\n",
       "      <td>420</td>\n",
       "      <td>7.0</td>\n",
       "      <td>9.0</td>\n",
       "      <td>5.0</td>\n",
       "      <td>46.56</td>\n",
       "      <td>0:02:03</td>\n",
       "      <td>Rain</td>\n",
       "      <td>2018-03-01 00:02:03</td>\n",
       "      <td>0.016667</td>\n",
       "    </tr>\n",
       "    <tr>\n",
       "      <th>2018-03-01 00:03:02</th>\n",
       "      <td>1-Mar-18</td>\n",
       "      <td>Thursday</td>\n",
       "      <td>1.63</td>\n",
       "      <td>360</td>\n",
       "      <td>7.5</td>\n",
       "      <td>9.0</td>\n",
       "      <td>6.0</td>\n",
       "      <td>46.56</td>\n",
       "      <td>0:03:02</td>\n",
       "      <td>Rain</td>\n",
       "      <td>2018-03-01 00:03:02</td>\n",
       "      <td>0.020833</td>\n",
       "    </tr>\n",
       "    <tr>\n",
       "      <th>2018-03-01 00:04:02</th>\n",
       "      <td>1-Mar-18</td>\n",
       "      <td>Thursday</td>\n",
       "      <td>2.17</td>\n",
       "      <td>480</td>\n",
       "      <td>9.5</td>\n",
       "      <td>11.0</td>\n",
       "      <td>8.0</td>\n",
       "      <td>46.56</td>\n",
       "      <td>0:04:02</td>\n",
       "      <td>Rain</td>\n",
       "      <td>2018-03-01 00:04:02</td>\n",
       "      <td>0.019792</td>\n",
       "    </tr>\n",
       "  </tbody>\n",
       "</table>\n",
       "</div>"
      ],
      "text/plain": [
       "                         date       day  distance  duration  estimate  \\\n",
       "date_time                                                               \n",
       "2018-03-01 00:00:03  1-Mar-18  Thursday      1.73       360       7.5   \n",
       "2018-03-01 00:01:03  1-Mar-18  Thursday      1.90       480       5.5   \n",
       "2018-03-01 00:02:03  1-Mar-18  Thursday      2.26       420       7.0   \n",
       "2018-03-01 00:03:02  1-Mar-18  Thursday      1.63       360       7.5   \n",
       "2018-03-01 00:04:02  1-Mar-18  Thursday      2.17       480       9.5   \n",
       "\n",
       "                     high_estimate  low_estimate main_temp     time weather  \\\n",
       "date_time                                                                     \n",
       "2018-03-01 00:00:03            9.0           6.0     46.69  0:00:03    Rain   \n",
       "2018-03-01 00:01:03            7.0           4.0     46.69  0:01:03    Rain   \n",
       "2018-03-01 00:02:03            9.0           5.0     46.56  0:02:03    Rain   \n",
       "2018-03-01 00:03:02            9.0           6.0     46.56  0:03:02    Rain   \n",
       "2018-03-01 00:04:02           11.0           8.0     46.56  0:04:02    Rain   \n",
       "\n",
       "                              date_time  uber_price_per_second  \n",
       "date_time                                                       \n",
       "2018-03-01 00:00:03 2018-03-01 00:00:03               0.020833  \n",
       "2018-03-01 00:01:03 2018-03-01 00:01:03               0.011458  \n",
       "2018-03-01 00:02:03 2018-03-01 00:02:03               0.016667  \n",
       "2018-03-01 00:03:02 2018-03-01 00:03:02               0.020833  \n",
       "2018-03-01 00:04:02 2018-03-01 00:04:02               0.019792  "
      ]
     },
     "execution_count": 233,
     "metadata": {},
     "output_type": "execute_result"
    }
   ],
   "source": [
    "data_uber_pool.head()"
   ]
  },
  {
   "cell_type": "code",
   "execution_count": 234,
   "metadata": {},
   "outputs": [
    {
     "name": "stderr",
     "output_type": "stream",
     "text": [
      "/Users/mengtingyang/anaconda3/lib/python3.6/site-packages/pandas/core/frame.py:3027: SettingWithCopyWarning: \n",
      "A value is trying to be set on a copy of a slice from a DataFrame\n",
      "\n",
      "See the caveats in the documentation: http://pandas.pydata.org/pandas-docs/stable/indexing.html#indexing-view-versus-copy\n",
      "  return super(DataFrame, self).rename(**kwargs)\n"
     ]
    }
   ],
   "source": [
    "data_uber_pool.rename(columns={\"distance\": \"uber_distance\"},inplace=True)\n",
    "data_uber_pool.rename(columns={\"duration\": \"uber_duration\"},inplace=True)\n",
    "data_uber_pool.rename(columns={\"estimate\": \"uber_estimate\"},inplace=True)\n",
    "data_uber_pool.rename(columns={\"high_estimate\": \"uber_high_estimate\"},inplace=True)\n",
    "data_uber_pool.rename(columns={\"low_estimate\": \"uber_low_estimate\"},inplace=True)"
   ]
  },
  {
   "cell_type": "markdown",
   "metadata": {},
   "source": [
    "Let's look at the most basic plot after we clean the data"
   ]
  },
  {
   "cell_type": "code",
   "execution_count": 235,
   "metadata": {
    "scrolled": false
   },
   "outputs": [
    {
     "data": {
      "image/png": "[encoded data removed]",
      "text/plain": [
       "<matplotlib.figure.Figure at 0x1a713d9080>"
      ]
     },
     "metadata": {},
     "output_type": "display_data"
    }
   ],
   "source": [
    "plt.rcParams[\"figure.figsize\"] = (20, 10)\n",
    "plt.plot(data_uber_pool.index, data_uber_pool['uber_price_per_second'])\n",
    "plt.title('Uber Price Estimate')\n",
    "plt.ylabel('Price ($)')\n",
    "plt.show()"
   ]
  },
  {
   "cell_type": "markdown",
   "metadata": {},
   "source": [
    "We estimate the data as a new csv"
   ]
  },
  {
   "cell_type": "code",
   "execution_count": 236,
   "metadata": {},
   "outputs": [
    {
     "name": "stderr",
     "output_type": "stream",
     "text": [
      "/Users/mengtingyang/anaconda3/lib/python3.6/site-packages/ipykernel_launcher.py:1: SettingWithCopyWarning: \n",
      "A value is trying to be set on a copy of a slice from a DataFrame\n",
      "\n",
      "See the caveats in the documentation: http://pandas.pydata.org/pandas-docs/stable/indexing.html#indexing-view-versus-copy\n",
      "  \"\"\"Entry point for launching an IPython kernel.\n"
     ]
    }
   ],
   "source": [
    "data_uber_pool.drop(['date_time'], axis=1, inplace=True)"
   ]
  },
  {
   "cell_type": "code",
   "execution_count": 237,
   "metadata": {},
   "outputs": [],
   "source": [
    "data_uber_pool.to_csv('uber_pool_March.csv', sep=',')"
   ]
  }
 ],
 "metadata": {
  "kernelspec": {
   "display_name": "Python 3",
   "language": "python",
   "name": "python3"
  },
  "language_info": {
   "codemirror_mode": {
    "name": "ipython",
    "version": 3
   },
   "file_extension": ".py",
   "mimetype": "text/x-python",
   "name": "python",
   "nbconvert_exporter": "python",
   "pygments_lexer": "ipython3",
   "version": "3.6.4"
  }
 },
 "nbformat": 4,
 "nbformat_minor": 2
}
